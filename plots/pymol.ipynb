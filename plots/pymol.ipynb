{
 "cells": [
  {
   "cell_type": "code",
   "execution_count": 1,
   "metadata": {},
   "outputs": [],
   "source": [
    "import pymol\n",
    "import sys\n",
    "from pathlib import Path\n",
    "from pymol import cmd\n",
    "\n",
    "wong_colors = {\n",
    "    \"red\": \"0xD55E00\",\n",
    "    \"dark_blue\": \"0x0072B2\",\n",
    "    \"orange\": \"0xE69F00\",\n",
    "    \"purple\": \"0xCC79A7\",\n",
    "    \"light_blue\": \"0x56B4E9\",\n",
    "    \"green\": \"0x009E73\",\n",
    "    \"black\": \"0x000000\",\n",
    "    \"yellow\": \"0xF0E442\",\n",
    "    \"grey\": \"0xBBBBBB\",\n",
    "}"
   ]
  },
  {
   "cell_type": "markdown",
   "metadata": {},
   "source": [
    "### Launch pymol"
   ]
  },
  {
   "cell_type": "code",
   "execution_count": 2,
   "metadata": {},
   "outputs": [],
   "source": [
    "_stdouterr = sys.stdout, sys.stderr\n",
    "pymol.finish_launching(['pymol', '-q'])\n",
    "sys.stdout, sys.stderr = _stdouterr\n",
    "\n",
    "\n",
    "# Ray tracing, fog, etc.\n",
    "\n",
    "cmd.set(\"ray_trace_mode\", 0)\n",
    "cmd.set(\"antialias\", 2)\n",
    "cmd.set(\"fog_start\", 0.55)\n",
    "cmd.set(\"ray_shadows\", 0)\n",
    "cmd.set(\"specular\", 0)\n",
    "cmd.bg_color(\"white\")\n",
    "\n",
    "# Unused settings\n",
    "\n",
    "# cmd.set(\"ambient\", 0.1)\n",
    "# cmd.set(\"reflect\", 0.5)\n",
    "# cmd.set(\"spec_direct\", 0)\n",
    "# cmd.set(\"spec_power\", 2000)"
   ]
  },
  {
   "cell_type": "markdown",
   "metadata": {},
   "source": [
    "### Molecule name"
   ]
  },
  {
   "cell_type": "code",
   "execution_count": 3,
   "metadata": {},
   "outputs": [],
   "source": [
    "mol = \"JYKSSIDNHAGOTC-XTVBVBRTSA-N\""
   ]
  },
  {
   "cell_type": "markdown",
   "metadata": {},
   "source": [
    "### Clean-up"
   ]
  },
  {
   "cell_type": "code",
   "execution_count": 11,
   "metadata": {},
   "outputs": [],
   "source": [
    "# Sort out messy valence\n",
    "\n",
    "cmd.rebond(mol)\n",
    "cmd.valence(order=\"guess\", selection1=\"all\")\n",
    "cmd.set(\"valence\", 0)\n",
    "cmd.show_as(\"sticks\", mol)\n",
    "cmd.set_bond(\"stick_radius\", value=\"0.3\", selection1=mol)\n",
    "cmd.set(\"stick_h_scale\", value=\"1\")\n",
    "cmd.set(\"sphere_scale\", 0.2)\n",
    "\n",
    "# Hide hydrogens\n",
    "\n",
    "cmd.hide(selection=f\"{mol} and h. and (e. c extend 1)\")\n",
    "\n",
    "# Main colours\n",
    "\n",
    "cmd.color(color=wong_colors[\"grey\"], selection=f\"{mol} and e. C\")\n",
    "cmd.color(color=wong_colors[\"dark_blue\"], selection=f\"{mol} and e. N\")\n",
    "cmd.color(color=wong_colors[\"orange\"], selection=f\"{mol} and e. Br\")\n"
   ]
  },
  {
   "cell_type": "code",
   "execution_count": null,
   "metadata": {},
   "outputs": [],
   "source": [
    "# Selection-based colours\n",
    "\n",
    "cmd.color(color=wong_colors[\"red\"], selection=\"sele\")\n",
    "# cmd.color(color=wong_colors[\"light_blue\"], selection=\"sele\")"
   ]
  },
  {
   "cell_type": "markdown",
   "metadata": {},
   "source": [
    "### Save figure"
   ]
  },
  {
   "cell_type": "code",
   "execution_count": null,
   "metadata": {},
   "outputs": [],
   "source": [
    "cmd.set(\"orthoscopic\", \"on\")\n",
    "cmd.png(filename=f\"figs/{mol}.png\", dpi=600, ray=1)"
   ]
  }
 ],
 "metadata": {
  "kernelspec": {
   "display_name": "pymol",
   "language": "python",
   "name": "python3"
  },
  "language_info": {
   "codemirror_mode": {
    "name": "ipython",
    "version": 3
   },
   "file_extension": ".py",
   "mimetype": "text/x-python",
   "name": "python",
   "nbconvert_exporter": "python",
   "pygments_lexer": "ipython3",
   "version": "3.11.4"
  },
  "orig_nbformat": 4
 },
 "nbformat": 4,
 "nbformat_minor": 2
}
