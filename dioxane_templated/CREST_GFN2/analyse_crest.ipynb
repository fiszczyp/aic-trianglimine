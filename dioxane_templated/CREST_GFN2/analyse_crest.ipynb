{
 "cells": [
  {
   "cell_type": "code",
   "execution_count": 38,
   "metadata": {},
   "outputs": [],
   "source": [
    "import numpy as np\n",
    "from pathlib import Path\n",
    "from shutil import copyfile\n",
    "\n",
    "xyz = Path(\"coords.xyz\").read_text().splitlines()[2:-2]\n",
    "confs = Path(\"confs\")\n",
    "cage_coords = np.array([\n",
    "    x.split()[1:] for x in cage_xyz\n",
    "][:], dtype=float)\n",
    "\n",
    "com = np.average(cage_coords, axis=0)\n",
    "\n",
    "cage_ids = [\n",
    "    16,\n",
    "    17,\n",
    "    18,\n",
    "    19,\n",
    "]\n",
    "\n",
    "dioxane_ids = [\n",
    "    130,\n",
    "    133\n",
    "]"
   ]
  },
  {
   "cell_type": "code",
   "execution_count": 29,
   "metadata": {},
   "outputs": [],
   "source": [
    "conf = confs / \"conf_0.xyz\"\n",
    "conf = confs / \"conf_0.xyz\"\n",
    "conf =  Path(\"coords.xyz\")\n",
    "cage_xyz = conf.read_text().splitlines()[2:]\n",
    "cage_coords = np.array([\n",
    "    x.split()[1:] for x in cage_xyz\n",
    "][:-1], dtype=float)\n",
    "com = np.average(cage_coords, axis=0)\n",
    "\n",
    "cage_dists = [\n",
    "    np.linalg.norm(cage_coords[cage_id]-com)\n",
    "    for cage_id in cage_ids\n",
    "]\n",
    "\n",
    "dioxane_dists = [\n",
    "    np.linalg.norm(cage_coords[dioxane_id]-com)\n",
    "    for dioxane_id in dioxane_ids\n",
    "]\n"
   ]
  },
  {
   "cell_type": "code",
   "execution_count": 30,
   "metadata": {},
   "outputs": [
    {
     "data": {
      "text/plain": [
       "True"
      ]
     },
     "execution_count": 30,
     "metadata": {},
     "output_type": "execute_result"
    }
   ],
   "source": [
    "inside = True\n",
    "\n",
    "for dioxane in dioxane_dists:\n",
    "    for cage in cage_dists:\n",
    "        if dioxane - cage > 0:\n",
    "            inside = False\n",
    "\n",
    "inside"
   ]
  },
  {
   "cell_type": "code",
   "execution_count": 39,
   "metadata": {},
   "outputs": [],
   "source": [
    "templated = []\n",
    "\n",
    "for conf in confs.glob(\"*.xyz\"):\n",
    "    cage_xyz = conf.read_text().splitlines()[2:]\n",
    "    cage_coords = np.array([\n",
    "        x.split()[1:] for x in cage_xyz\n",
    "    ][:-1], dtype=float)\n",
    "    com = np.average(cage_coords, axis=0)\n",
    "\n",
    "    cage_dists = [\n",
    "        np.linalg.norm(cage_coords[cage_id]-com)\n",
    "        for cage_id in cage_ids\n",
    "    ]\n",
    "\n",
    "    dioxane_dists = [\n",
    "        np.linalg.norm(cage_coords[dioxane_id]-com)\n",
    "        for dioxane_id in dioxane_ids\n",
    "    ]\n",
    "\n",
    "    inside = True\n",
    "\n",
    "    for dioxane in dioxane_dists:\n",
    "        for cage in cage_dists:\n",
    "            if dioxane - cage > 0:\n",
    "                inside = False\n",
    "\n",
    "    if inside == True:\n",
    "        templated.append(conf)\n"
   ]
  },
  {
   "cell_type": "code",
   "execution_count": 41,
   "metadata": {},
   "outputs": [
    {
     "data": {
      "text/plain": [
       "'dioxane_templated.xyz'"
      ]
     },
     "execution_count": 41,
     "metadata": {},
     "output_type": "execute_result"
    }
   ],
   "source": [
    "copyfile(templated[0], \"dioxane_templated.xyz\")"
   ]
  }
 ],
 "metadata": {
  "kernelspec": {
   "display_name": "base",
   "language": "python",
   "name": "python3"
  },
  "language_info": {
   "codemirror_mode": {
    "name": "ipython",
    "version": 3
   },
   "file_extension": ".py",
   "mimetype": "text/x-python",
   "name": "python",
   "nbconvert_exporter": "python",
   "pygments_lexer": "ipython3",
   "version": "3.11.4"
  }
 },
 "nbformat": 4,
 "nbformat_minor": 2
}
